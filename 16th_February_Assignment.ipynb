{
 "cells": [
  {
   "cell_type": "markdown",
   "id": "bfb9326c",
   "metadata": {},
   "source": [
    "### Q1. What is a database? Differentiate between SQL and NoSQL databases."
   ]
  },
  {
   "cell_type": "markdown",
   "id": "cfe6bff9",
   "metadata": {},
   "source": [
    "#### A database is an organized collection of data that is stored and managed on a computer system. It allows users to easily access, manipulate, and update data, as well as run queries to extract specific information.\n",
    "\n",
    "#### SQL (Structured Query Language) and NoSQL (Not Only SQL) are two different types of database management systems.\n",
    "\n",
    "#### SQL databases are based on a relational model, which means that data is organized into tables with columns and rows. These databases use SQL to manipulate and query data. SQL databases are known for their high level of data consistency, their ability to handle complex queries, and their strong support for transaction management. Some examples of SQL databases include MySQL, Oracle, and Microsoft SQL Server.\n",
    "\n",
    "#### NoSQL databases, on the other hand, do not use a relational model. Instead, they use a variety of data models such as key-value, document, graph, or column-family. NoSQL databases are designed to be highly scalable, fault-tolerant, and flexible. They are particularly well-suited for handling large amounts of unstructured or semi-structured data. Some examples of NoSQL databases include MongoDB, Cassandra, and Redis."
   ]
  },
  {
   "cell_type": "markdown",
   "id": "72d47009",
   "metadata": {},
   "source": [
    "### Q2. What is DDL? Explain why CREATE, DROP, ALTER, and TRUNCATE are used with an example."
   ]
  },
  {
   "cell_type": "markdown",
   "id": "4cb0803a",
   "metadata": {},
   "source": [
    "#### DDL (Data Definition Language) is a subset of SQL (Structured Query Language) that is used to define the database schema, which includes the structure of the database objects such as tables, indexes, and constraints.\n",
    "\n",
    "#### The four most commonly used DDL commands are:\n",
    "\n",
    "###### CREATE: This command is used to create a new database object, such as a table or an index. For example, the following SQL statement creates a new table called \"employees\" with columns for \"employee_id\", \"first_name\", \"last_name\", \"email\", and \"hire_date\":\n"
   ]
  },
  {
   "cell_type": "code",
   "execution_count": null,
   "id": "0bce9339",
   "metadata": {},
   "outputs": [],
   "source": [
    "CREATE TABLE employees (\n",
    "  employee_id INT PRIMARY KEY,\n",
    "  first_name VARCHAR(50),\n",
    "  last_name VARCHAR(50),\n",
    "  email VARCHAR(100),\n",
    "  hire_date DATE\n",
    ");"
   ]
  },
  {
   "cell_type": "markdown",
   "id": "7f173bfe",
   "metadata": {},
   "source": [
    "#### DROP: This command is used to delete an existing database object, such as a table or an index. For example, the following SQL statement drops the \"employees\" table that we created in the previous example:\n",
    "###### DROP TABLE employees;"
   ]
  },
  {
   "cell_type": "markdown",
   "id": "ec63096e",
   "metadata": {},
   "source": [
    "#### ALTER: This command is used to modify the structure of an existing database object. For example, the following SQL statement adds a new column called \"salary\" to the \"employees\" table: \n",
    "###### ALTER TABLE employees ADD COLUMN salary DECIMAL(10,2);"
   ]
  },
  {
   "cell_type": "markdown",
   "id": "4ac051b7",
   "metadata": {},
   "source": [
    "#### TRUNCATE: This command is used to delete all the data in a table, while keeping its structure intact. For example, the following SQL statement deletes all the data in the \"employees\" table:\n",
    "###### TRUNCATE TABLE employees;"
   ]
  },
  {
   "cell_type": "markdown",
   "id": "b1c3b431",
   "metadata": {},
   "source": [
    "### Q3. What is DML? Explain INSERT, UPDATE, and DELETE with an example."
   ]
  },
  {
   "cell_type": "markdown",
   "id": "8d7d093f",
   "metadata": {},
   "source": [
    "#### DML (Data Manipulation Language) is a subset of SQL (Structured Query Language) that is used to manipulate data within the database.\n",
    "\n",
    "#### The three most commonly used DML commands are:"
   ]
  },
  {
   "cell_type": "markdown",
   "id": "e9ba925d",
   "metadata": {},
   "source": [
    "#### INSERT: This command is used to insert new rows of data into a table. For example, the following SQL statement inserts a new row into the \"employees\" table we created in the previous question:\n",
    "###### INSERT INTO employees (employee_id, first_name, last_name, email, hire_date, salary) VALUES (1, 'John', 'Doe', 'john.doe@example.com', '2022-02-22', 50000);"
   ]
  },
  {
   "cell_type": "markdown",
   "id": "0f6948b0",
   "metadata": {},
   "source": [
    "#### UPDATE: This command is used to modify existing rows of data in a table. For example, the following SQL statement updates the \"salary\" column of the \"employees\" table for the employee with ID 1:\n",
    "###### UPDATE employees SET salary = 55000 WHERE employee_id = 1;"
   ]
  },
  {
   "cell_type": "markdown",
   "id": "ea22f4f2",
   "metadata": {},
   "source": [
    "#### DELETE: This command is used to delete rows of data from a table. For example, the following SQL statement deletes the row for the employee with ID 1 from the \"employees\" table:\n",
    "###### DELETE FROM employees WHERE employee_id = 1;"
   ]
  },
  {
   "cell_type": "markdown",
   "id": "dca0cce6",
   "metadata": {},
   "source": [
    "### Q4. What is DQL? Explain SELECT with an example."
   ]
  },
  {
   "cell_type": "markdown",
   "id": "df309382",
   "metadata": {},
   "source": [
    "#### DQL (Data Query Language) is a subset of SQL (Structured Query Language) that is used to retrieve data from the database. The most commonly used DQL command is SELECT, which is used to retrieve data from one or more tables in the database.\n",
    "\n",
    "#### The SELECT statement has the following basic syntax:"
   ]
  },
  {
   "cell_type": "code",
   "execution_count": null,
   "id": "117a4d37",
   "metadata": {},
   "outputs": [],
   "source": [
    "SELECT column1, column2, ...\n",
    "FROM table1\n",
    "[JOIN table2 ON condition]\n",
    "WHERE condition\n",
    "GROUP BY column\n",
    "HAVING condition\n",
    "ORDER BY column [ASC|DESC]"
   ]
  },
  {
   "cell_type": "markdown",
   "id": "6b6cd642",
   "metadata": {},
   "source": [
    "#### Here's a brief explanation of each clause:\n",
    "\n",
    "###### SELECT: specifies the columns to be retrieved from the table(s).\n",
    "###### FROM: specifies the table(s) from which to retrieve data.\n",
    "###### JOIN: joins two or more tables based on a specified condition.\n",
    "###### WHERE: specifies the conditions that must be met for a row to be included in the results.\n",
    "###### GROUP BY: groups the results based on a specified column.\n",
    "###### HAVING: specifies the conditions that must be met for a group to be included in the results.\n",
    "###### ORDER BY: sorts the results based on a specified column, in ascending (ASC) or descending (DESC) order.\n",
    "##### Here's an example SELECT statement:"
   ]
  },
  {
   "cell_type": "code",
   "execution_count": null,
   "id": "e835aff7",
   "metadata": {},
   "outputs": [],
   "source": [
    "SELECT first_name, last_name, hire_date, salary\n",
    "FROM employees\n",
    "WHERE salary > 50000\n",
    "ORDER BY last_name ASC;"
   ]
  },
  {
   "cell_type": "markdown",
   "id": "4f13b1c9",
   "metadata": {},
   "source": [
    "###### This statement retrieves the first name, last name, hire date, and salary of all employees whose salary is greater than 50,000, sorted by last name in ascending order. The first line specifies the columns to be retrieved, the second line specifies the table to be queried, the third line specifies the condition that must be met, and the fourth line specifies the sorting order."
   ]
  },
  {
   "cell_type": "markdown",
   "id": "4def4c1e",
   "metadata": {},
   "source": [
    "### Q5. Explain Primary Key and Foreign Key."
   ]
  },
  {
   "cell_type": "markdown",
   "id": "62be6a92",
   "metadata": {},
   "source": [
    "##### In a relational database, a primary key and a foreign key are used to establish a relationship between two tables.\n",
    "\n",
    "##### A primary key is a column or set of columns in a table that uniquely identifies each row in the table. It serves as the unique identifier for each record in the table and must have a unique value for each row. Typically, a primary key is a single column with a unique value, but it can also be a combination of columns that create a unique value. The primary key is used to ensure data integrity and to establish relationships with other tables in the database. For example, in a database of students and courses, the \"StudentID\" column in the \"Students\" table could be used as a primary key to ensure each student has a unique ID.\n",
    "\n",
    "##### A foreign key is a column in one table that refers to the primary key of another table. It creates a link between two tables and allows data to be retrieved from multiple tables at once. The foreign key is used to ensure referential integrity, which means that the data in the two tables is consistent and does not conflict with each other. For example, in a database of students and courses, the \"StudentID\" column in the \"Courses\" table could be used as a foreign key to link the courses taken by a particular student.\n",
    "\n",
    "##### To create a relationship between two tables using primary and foreign keys, the foreign key column in the child table must match the primary key column in the parent table. The child table must also have a constraint that the foreign key column references the primary key column in the parent table. This ensures that data can only be entered into the child table if it matches an existing record in the parent table."
   ]
  },
  {
   "cell_type": "markdown",
   "id": "910135b2",
   "metadata": {},
   "source": [
    "### Q6. Write a python code to connect MySQL to python. Explain the cursor() and execute() method."
   ]
  },
  {
   "cell_type": "markdown",
   "id": "9a9697b3",
   "metadata": {},
   "source": [
    "#### To connect to MySQL in Python, you need to install the \"mysql-connector-python\" module. You can install it using pip, which is the package installer for Python:"
   ]
  },
  {
   "cell_type": "code",
   "execution_count": 2,
   "id": "95eaa2c6",
   "metadata": {},
   "outputs": [
    {
     "name": "stdout",
     "output_type": "stream",
     "text": [
      "Collecting mysql-connector-python\n",
      "  Downloading mysql_connector_python-8.0.32-cp39-cp39-win_amd64.whl (7.9 MB)\n",
      "     ---------------------------------------- 7.9/7.9 MB 843.6 kB/s eta 0:00:00\n",
      "Requirement already satisfied: protobuf<=3.20.3,>=3.11.0 in c:\\users\\shaik\\anaconda3\\lib\\site-packages (from mysql-connector-python) (3.19.6)\n",
      "Installing collected packages: mysql-connector-python\n",
      "Successfully installed mysql-connector-python-8.0.32\n"
     ]
    }
   ],
   "source": [
    "!pip install mysql-connector-python"
   ]
  },
  {
   "cell_type": "code",
   "execution_count": null,
   "id": "5cbaad01",
   "metadata": {},
   "outputs": [],
   "source": [
    "import mysql.connector\n",
    "\n",
    "mydb = mysql.connector.connect(\n",
    "  host=\"localhost\",\n",
    "  user=\"yourusername\",\n",
    "  password=\"yourpassword\",\n",
    "  database=\"mydatabase\"\n",
    ")\n",
    "\n",
    "print(mydb)"
   ]
  },
  {
   "cell_type": "markdown",
   "id": "b491fc45",
   "metadata": {},
   "source": [
    "###### After connecting to the database, you can create a cursor object using the cursor() method of the connection object. The cursor object is used to execute SQL statements and fetch data from the database. For example, you can use the execute() method of the cursor object to execute an SQL statement:"
   ]
  },
  {
   "cell_type": "code",
   "execution_count": null,
   "id": "5e2071ae",
   "metadata": {},
   "outputs": [],
   "source": [
    "mycursor = mydb.cursor()\n",
    "\n",
    "mycursor.execute(\"SELECT * FROM customers\")\n",
    "\n",
    "myresult = mycursor.fetchall()\n",
    "\n",
    "for x in myresult:\n",
    "    print(x)"
   ]
  },
  {
   "cell_type": "markdown",
   "id": "00d11f02",
   "metadata": {},
   "source": [
    "###### In this code, we create a cursor object mycursor using the cursor() method of the connection object mydb. We then use the execute() method of the cursor object to execute the SQL statement \"SELECT * FROM customers\", which selects all records from the \"customers\" table. We use the fetchall() method of the cursor object to retrieve all the records, and then use a loop to print each record."
   ]
  },
  {
   "cell_type": "markdown",
   "id": "3ab13b3b",
   "metadata": {},
   "source": [
    "### Q7. Give the order of execution of SQL clauses in an SQL query."
   ]
  },
  {
   "cell_type": "markdown",
   "id": "25da9dd0",
   "metadata": {},
   "source": [
    "#### An SQL query consists of multiple clauses that are executed in a specific order to perform a particular operation. The order of execution of SQL clauses is as follows:\n",
    "\n",
    "###### FROM: The FROM clause specifies the table or tables from which the data will be retrieved.\n",
    "\n",
    "###### JOIN: The JOIN clause is used to combine rows from two or more tables based on a related column between them.\n",
    "\n",
    "###### WHERE: The WHERE clause is used to filter the rows that meet a specific condition.\n",
    "\n",
    "###### GROUP BY: The GROUP BY clause is used to group the rows that have the same values in a specific column.\n",
    "\n",
    "###### HAVING: The HAVING clause is used to filter the groups that meet a specific condition.\n",
    "\n",
    "###### SELECT: The SELECT clause is used to select the columns that will be retrieved from the tables.\n",
    "\n",
    "###### DISTINCT: The DISTINCT clause is used to remove duplicates from the result set.\n",
    "\n",
    "###### ORDER BY: The ORDER BY clause is used to sort the result set based on a specific column.\n",
    "\n",
    "###### LIMIT: The LIMIT clause is used to limit the number of rows that are returned by the query.\n"
   ]
  },
  {
   "cell_type": "code",
   "execution_count": null,
   "id": "af2335a4",
   "metadata": {},
   "outputs": [],
   "source": []
  }
 ],
 "metadata": {
  "kernelspec": {
   "display_name": "Python 3 (ipykernel)",
   "language": "python",
   "name": "python3"
  },
  "language_info": {
   "codemirror_mode": {
    "name": "ipython",
    "version": 3
   },
   "file_extension": ".py",
   "mimetype": "text/x-python",
   "name": "python",
   "nbconvert_exporter": "python",
   "pygments_lexer": "ipython3",
   "version": "3.9.13"
  }
 },
 "nbformat": 4,
 "nbformat_minor": 5
}
